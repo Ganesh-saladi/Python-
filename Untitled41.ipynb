{
  "nbformat": 4,
  "nbformat_minor": 0,
  "metadata": {
    "colab": {
      "provenance": [],
      "authorship_tag": "ABX9TyOQA/KfdPxtWc6dVT+wtERM",
      "include_colab_link": true
    },
    "kernelspec": {
      "name": "python3",
      "display_name": "Python 3"
    },
    "language_info": {
      "name": "python"
    }
  },
  "cells": [
    {
      "cell_type": "markdown",
      "metadata": {
        "id": "view-in-github",
        "colab_type": "text"
      },
      "source": [
        "<a href=\"https://colab.research.google.com/github/Ganesh-saladi/Python-/blob/main/Untitled41.ipynb\" target=\"_parent\"><img src=\"https://colab.research.google.com/assets/colab-badge.svg\" alt=\"Open In Colab\"/></a>"
      ]
    },
    {
      "cell_type": "code",
      "source": [
        "import math\n",
        "\n",
        "n = int(input(\"Enter a number: \"))\n",
        "is_prime = True\n",
        "\n",
        "if n <= 1:\n",
        "    is_prime = False\n",
        "elif n <= 3:\n",
        "    is_prime = True\n",
        "elif n % 2 == 0 or n % 3 == 0:\n",
        "    is_prime = False\n",
        "else:\n",
        "    for i in range(5, int(math.sqrt(n)) + 1, 2):\n",
        "        if n % i == 0:\n",
        "            is_prime = False\n",
        "            break\n",
        "\n",
        "if is_prime:\n",
        "    print(n, \"is a prime number.\")\n",
        "else:\n",
        "    print(n, \"is not a prime number.\")"
      ],
      "metadata": {
        "id": "mnEP02vkJAtZ",
        "colab": {
          "base_uri": "https://localhost:8080/"
        },
        "outputId": "abade8b8-eb51-40ad-afdf-9eab7382e944"
      },
      "execution_count": null,
      "outputs": [
        {
          "output_type": "stream",
          "name": "stdout",
          "text": [
            "Enter a number: 11\n",
            "11 is a prime number.\n"
          ]
        }
      ]
    }
  ]
}