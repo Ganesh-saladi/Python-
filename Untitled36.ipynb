{
  "nbformat": 4,
  "nbformat_minor": 0,
  "metadata": {
    "colab": {
      "provenance": [],
      "authorship_tag": "ABX9TyPKQ5Mv2W+vEpbjSY/yXiS8",
      "include_colab_link": true
    },
    "kernelspec": {
      "name": "python3",
      "display_name": "Python 3"
    },
    "language_info": {
      "name": "python"
    }
  },
  "cells": [
    {
      "cell_type": "markdown",
      "metadata": {
        "id": "view-in-github",
        "colab_type": "text"
      },
      "source": [
        "<a href=\"https://colab.research.google.com/github/Ganesh-saladi/Python-/blob/main/Untitled36.ipynb\" target=\"_parent\"><img src=\"https://colab.research.google.com/assets/colab-badge.svg\" alt=\"Open In Colab\"/></a>"
      ]
    },
    {
      "cell_type": "code",
      "source": [
        "n=int(input())\n",
        "a=n*(n+1)/2\n",
        "print(a)\n"
      ],
      "metadata": {
        "colab": {
          "base_uri": "https://localhost:8080/"
        },
        "id": "9yXCZvrgberF",
        "outputId": "7c05af95-28ae-42d2-875e-4bd50c92ffcd"
      },
      "execution_count": null,
      "outputs": [
        {
          "output_type": "stream",
          "name": "stdout",
          "text": [
            "10\n",
            "55.0\n"
          ]
        }
      ]
    },
    {
      "cell_type": "code",
      "execution_count": null,
      "metadata": {
        "colab": {
          "base_uri": "https://localhost:8080/"
        },
        "id": "fDebm7liKeOE",
        "outputId": "52487b53-0096-46ca-c8fa-3fc75f676d51"
      },
      "outputs": [
        {
          "output_type": "stream",
          "name": "stdout",
          "text": [
            "70\n",
            "70 is positive \n"
          ]
        }
      ],
      "source": [
        "n=int(input())\n",
        "if (n>0):\n",
        "  print(n,\"is positive \")\n",
        "elif(n<0):\n",
        "  print(n,\" is negative \")\n",
        "else:\n",
        "  print(n,\"is zero\")"
      ]
    },
    {
      "cell_type": "code",
      "source": [
        "a = int(input(\"Enter first number: \"))\n",
        "b = int(input(\"Enter second number: \"))\n",
        "print(\"Greatest number is:\", max(a, b))\n"
      ],
      "metadata": {
        "colab": {
          "base_uri": "https://localhost:8080/"
        },
        "id": "-60COOXNmkam",
        "outputId": "2eca29bf-6d11-4577-dd9b-bef01dc2e54c"
      },
      "execution_count": 1,
      "outputs": [
        {
          "output_type": "stream",
          "name": "stdout",
          "text": [
            "Enter first number: 50\n",
            "Enter second number: 1000\n",
            "Greatest number is: 1000\n"
          ]
        }
      ]
    },
    {
      "cell_type": "code",
      "source": [
        "a = int(input(\"Enter a year: \"))\n",
        "\n",
        "if (a % 4 == 0 and a % 100 != 0) or (a % 400 == 0):\n",
        "    print(a, \"is a Leap Year.\")\n",
        "else:\n",
        "    print(a, \"is NOT a Leap Year.\")\n"
      ],
      "metadata": {
        "colab": {
          "base_uri": "https://localhost:8080/"
        },
        "id": "OSYpbalwnSIm",
        "outputId": "02c7e5c6-4ec8-4883-9e09-174ce23f8eea"
      },
      "execution_count": 2,
      "outputs": [
        {
          "output_type": "stream",
          "name": "stdout",
          "text": [
            "Enter a year: 2020\n",
            "2020 is a Leap Year.\n"
          ]
        }
      ]
    }
  ]
}