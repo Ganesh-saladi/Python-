{
  "nbformat": 4,
  "nbformat_minor": 0,
  "metadata": {
    "colab": {
      "provenance": [],
      "authorship_tag": "ABX9TyN15RSHDd21o4+o6/rLIixb",
      "include_colab_link": true
    },
    "kernelspec": {
      "name": "python3",
      "display_name": "Python 3"
    },
    "language_info": {
      "name": "python"
    }
  },
  "cells": [
    {
      "cell_type": "markdown",
      "metadata": {
        "id": "view-in-github",
        "colab_type": "text"
      },
      "source": [
        "<a href=\"https://colab.research.google.com/github/Ganesh-saladi/Python-/blob/main/Untitled0.ipynb\" target=\"_parent\"><img src=\"https://colab.research.google.com/assets/colab-badge.svg\" alt=\"Open In Colab\"/></a>"
      ]
    },
    {
      "cell_type": "code",
      "execution_count": null,
      "metadata": {
        "colab": {
          "base_uri": "https://localhost:8080/"
        },
        "id": "C7Dtb0rbaHJ_",
        "outputId": "a43439de-9c09-4039-9f8b-b24b792a6853"
      },
      "outputs": [
        {
          "output_type": "stream",
          "name": "stdout",
          "text": [
            "4\n",
            "1  \n",
            "1 2  \n",
            "1 2 3  \n",
            "1 2 3 4  \n"
          ]
        }
      ],
      "source": [
        "N=int(input())\n",
        "for i in range(1,N+1):\n",
        "    for j in range(1,i+1):\n",
        "        print(j,end =\" \")\n",
        "    print(\" \")"
      ]
    },
    {
      "cell_type": "code",
      "source": [
        "a=input()\n",
        "b=a[::-1]\n",
        "if(a==b):\n",
        "    print(a,\"is palindrome\")\n",
        "else:\n",
        "    print(a,\"is not palindrome\")"
      ],
      "metadata": {
        "colab": {
          "base_uri": "https://localhost:8080/"
        },
        "id": "ne8Kwc_Sdcgp",
        "outputId": "ad9c3698-061a-4322-b16f-e44ce5528127"
      },
      "execution_count": null,
      "outputs": [
        {
          "output_type": "stream",
          "name": "stdout",
          "text": [
            "ravi\n",
            "ravi is not palindrome\n"
          ]
        }
      ]
    },
    {
      "cell_type": "code",
      "source": [
        "a=input()\n",
        "b=input()\n",
        "if (sorted(a)==sorted(b) and len(a)==len(b)):\n",
        "    print(a,\",\",b,\"are anograms\")\n",
        "else:\n",
        "    print(a,\",\",b,\"are not anograms\")"
      ],
      "metadata": {
        "colab": {
          "base_uri": "https://localhost:8080/"
        },
        "id": "tQ9na__oeWxb",
        "outputId": "22dc512a-5f4a-4ddb-f4ab-c7f2985c8316"
      },
      "execution_count": null,
      "outputs": [
        {
          "output_type": "stream",
          "name": "stdout",
          "text": [
            "listen \n",
            "silent \n",
            "listen  , silent  are anograms\n"
          ]
        }
      ]
    },
    {
      "cell_type": "code",
      "source": [
        "\n",
        "n=int(input())\n",
        "a=0\n",
        "b=1\n",
        "print(a,b,end=\" \")\n",
        "for i in range(n):\n",
        "    c=a+b\n",
        "    print(c, end=\" \")\n",
        "    a=b\n",
        "    b=c"
      ],
      "metadata": {
        "colab": {
          "base_uri": "https://localhost:8080/"
        },
        "id": "hgfnjod_gzh5",
        "outputId": "c3a44667-35f5-4f21-edc2-2c8e6c3d5e88"
      },
      "execution_count": null,
      "outputs": [
        {
          "output_type": "stream",
          "name": "stdout",
          "text": [
            "10\n",
            "0 1 1 2 3 5 8 13 21 34 55 89 "
          ]
        }
      ]
    },
    {
      "cell_type": "code",
      "source": [
        "n=int(input())\n",
        "n=abs(n)\n",
        "sum=0\n",
        "while(n>0):\n",
        "    a=n%10\n",
        "    if a%2==0:\n",
        "        sum+=a\n",
        "    n=n//10\n",
        "print(sum)"
      ],
      "metadata": {
        "colab": {
          "base_uri": "https://localhost:8080/"
        },
        "id": "Q5mX-bqtbPZ_",
        "outputId": "d23cdecb-0abc-43ab-ea25-6f1afeed2145"
      },
      "execution_count": null,
      "outputs": [
        {
          "output_type": "stream",
          "name": "stdout",
          "text": [
            "10\n",
            "0\n"
          ]
        }
      ]
    },
    {
      "cell_type": "code",
      "source": [
        "start = int(input(\"Enter start of range: \"))\n",
        "end = int(input(\"Enter end of range: \"))\n",
        "\n",
        "total_sum = 0\n",
        "\n",
        "for number in range(start, end + 1):\n",
        "    n = abs(number)  # Handle negative numbers\n",
        "    while n > 0:\n",
        "        digit=n%10\n",
        "        if digit % 2 == 0:\n",
        "            total_sum += digit\n",
        "        n = n // 10\n",
        "\n",
        "print(\"Total sum of even digits in range:\", total_sum)"
      ],
      "metadata": {
        "colab": {
          "base_uri": "https://localhost:8080/"
        },
        "id": "VN6zmJdkjk2B",
        "outputId": "b061c8d2-a725-4d93-9f9e-6b586f7f9d7a"
      },
      "execution_count": null,
      "outputs": [
        {
          "output_type": "stream",
          "name": "stdout",
          "text": [
            "Enter start of range: 0\n",
            "Enter end of range: 6\n",
            "Total sum of even digits in range: 12\n"
          ]
        }
      ]
    },
    {
      "cell_type": "code",
      "source": [
        "n = int(input())\n",
        "a = 1\n",
        "if n<0:\n",
        "    print(\"Factorial is not defined\")\n",
        "else:\n",
        "    for i in range(1, n + 1):\n",
        "        a *= i\n",
        "    print(factorial)"
      ],
      "metadata": {
        "colab": {
          "base_uri": "https://localhost:8080/"
        },
        "id": "ZPs6dcC6lls8",
        "outputId": "4d6764a1-8794-4575-e98d-1921802d9202"
      },
      "execution_count": null,
      "outputs": [
        {
          "output_type": "stream",
          "name": "stdout",
          "text": [
            "5\n",
            "120\n"
          ]
        }
      ]
    },
    {
      "cell_type": "code",
      "source": [
        "import math\n",
        "\n",
        "n = int(input(\"Enter a number: \"))\n",
        "is_prime = True\n",
        "\n",
        "if n <= 1:\n",
        "    is_prime = False\n",
        "elif n <= 3:\n",
        "    is_prime = True\n",
        "elif n % 2 == 0 or n % 3 == 0:\n",
        "    is_prime = False\n",
        "else:\n",
        "    for i in range(5, int(math.sqrt(n)) + 1, 2):\n",
        "        if n % i == 0:\n",
        "            is_prime = False\n",
        "            break\n",
        "\n",
        "if is_prime:\n",
        "    print(n, \"is a prime number.\")\n",
        "else:\n",
        "    print(n, \"is not a prime number.\")"
      ],
      "metadata": {
        "id": "sJZlMxbsxHmm",
        "outputId": "0a43f041-eda8-45c3-bb40-a249a2cbf502",
        "colab": {
          "base_uri": "https://localhost:8080/"
        }
      },
      "execution_count": null,
      "outputs": [
        {
          "output_type": "stream",
          "name": "stdout",
          "text": [
            "Enter a number: 35\n",
            "35 is not a prime number.\n"
          ]
        }
      ]
    },
    {
      "cell_type": "code",
      "source": [
        "def fun(n):\n",
        "    if n==0:\n",
        "        return 1\n",
        "    return n*fun(n-1)\n",
        "n=int(input())\n",
        "print(fun(n))"
      ],
      "metadata": {
        "colab": {
          "base_uri": "https://localhost:8080/"
        },
        "id": "CNqSum_Mplod",
        "outputId": "c79ade00-5980-46d7-a10f-d56ea75f8653"
      },
      "execution_count": null,
      "outputs": [
        {
          "output_type": "stream",
          "name": "stdout",
          "text": [
            "5\n",
            "120\n"
          ]
        }
      ]
    },
    {
      "cell_type": "code",
      "source": [
        "T=int(input())\n",
        "for i in range(T):\n",
        "    A, B=map(int,input().split())\n",
        "    if B*2>=A:\n",
        "        print(\"yes\")\n",
        "    else:\n",
        "        print(\"No\")"
      ],
      "metadata": {
        "id": "KMqIZszT58Ek",
        "colab": {
          "base_uri": "https://localhost:8080/"
        },
        "outputId": "687eee33-f510-4ad9-b38c-3d9267d2ef17"
      },
      "execution_count": null,
      "outputs": [
        {
          "output_type": "stream",
          "name": "stdout",
          "text": [
            "1\n",
            "3 2\n",
            "yes\n"
          ]
        }
      ]
    },
    {
      "cell_type": "code",
      "source": [
        "T=int(input())\n",
        "for i in range(T):\n",
        "    N=int(input())\n",
        "    print(N*15)"
      ],
      "metadata": {
        "colab": {
          "base_uri": "https://localhost:8080/"
        },
        "id": "27E0jr7OFAed",
        "outputId": "42754903-83e8-46ba-9aa0-433903c6df1c"
      },
      "execution_count": null,
      "outputs": [
        {
          "output_type": "stream",
          "name": "stdout",
          "text": [
            "2\n",
            "4\n",
            "60\n",
            "2\n",
            "30\n"
          ]
        }
      ]
    },
    {
      "cell_type": "code",
      "source": [
        "5\n",
        "T=int(input())\n",
        "for i in range(T):\n",
        "    X=int(input())\n",
        "    print(X*10)"
      ],
      "metadata": {
        "colab": {
          "base_uri": "https://localhost:8080/"
        },
        "id": "02qWl4wpBk_6",
        "outputId": "fdd65b5b-fcc6-4522-ca6c-b2eaedcdcc68"
      },
      "execution_count": null,
      "outputs": [
        {
          "output_type": "stream",
          "name": "stdout",
          "text": [
            "2\n",
            "4\n",
            "40\n",
            "1\n",
            "10\n"
          ]
        }
      ]
    },
    {
      "cell_type": "code",
      "source": [
        "T = int(input())\n",
        "\n",
        "for _ in range(T):\n",
        "    N, X = map(int, input().split())\n",
        "\n",
        "    if X >= N:\n",
        "        print(0)\n",
        "    else:\n",
        "        remaining = N - X\n",
        "        packets = (remaining ) // 4  # same as math.ceil(remaining / 4)\n",
        "        print(packets)"
      ],
      "metadata": {
        "colab": {
          "base_uri": "https://localhost:8080/"
        },
        "id": "k3C7T0B4C6mF",
        "outputId": "bbc9e60e-49f2-4ef1-da9e-e3067a0ecab7"
      },
      "execution_count": null,
      "outputs": [
        {
          "output_type": "stream",
          "name": "stdout",
          "text": [
            "2\n",
            "20 12\n",
            "2\n",
            "10 100\n",
            "0\n"
          ]
        }
      ]
    },
    {
      "cell_type": "code",
      "source": [
        "def is_anograms(s1,s2):\n",
        "    if (sorted(s1)==sorted(s2) and len(s1)==len(s2)):\n",
        "        return True\n",
        "    else:\n",
        "        return False\n",
        "s1, s2=map(str,input().split())\n",
        "is_anograms(s1,s2)"
      ],
      "metadata": {
        "colab": {
          "base_uri": "https://localhost:8080/"
        },
        "id": "qGpa2N5VG75b",
        "outputId": "a7e45227-fefb-4d12-b2c5-ede8fb9010c0"
      },
      "execution_count": null,
      "outputs": [
        {
          "name": "stdout",
          "output_type": "stream",
          "text": [
            "listen silent \n"
          ]
        },
        {
          "output_type": "execute_result",
          "data": {
            "text/plain": [
              "True"
            ]
          },
          "metadata": {},
          "execution_count": 12
        }
      ]
    },
    {
      "cell_type": "code",
      "source": [
        "def xyz(n):\n",
        "    j = 0\n",
        "    for i in range(len(n)):\n",
        "        if n[i] != 0:\n",
        "            n[j], n[i] = n[i], n[j]\n",
        "            j += 1\n",
        "    return n\n",
        "\n",
        "n = list(map(int, input().split()))  # e.g., input: 0 3 0\n",
        "print(xyz(n))"
      ],
      "metadata": {
        "colab": {
          "base_uri": "https://localhost:8080/"
        },
        "id": "Zpr1hU7C418O",
        "outputId": "9b66885c-8fb3-4686-a12e-9d7f9237e678"
      },
      "execution_count": null,
      "outputs": [
        {
          "output_type": "stream",
          "name": "stdout",
          "text": [
            "1 0 2 0 3 0\n",
            "[1, 2, 3, 0, 0, 0]\n"
          ]
        }
      ]
    },
    {
      "cell_type": "code",
      "source": [
        "def f(lst):\n",
        "    d = []\n",
        "    seen = set()\n",
        "    for item in lst:\n",
        "        if item in seen and item not in d:\n",
        "            d.append(item)\n",
        "        else:\n",
        "            seen.add(item)\n",
        "    return d\n",
        "lst=list(map(int,input().split()))\n",
        "print(f(lst))"
      ],
      "metadata": {
        "colab": {
          "base_uri": "https://localhost:8080/"
        },
        "id": "KhpgtIPI6a8P",
        "outputId": "6fc9df85-334a-4614-f2d1-36981ad4fdc1"
      },
      "execution_count": null,
      "outputs": [
        {
          "output_type": "stream",
          "name": "stdout",
          "text": [
            "4 52 52\n",
            "[52]\n"
          ]
        }
      ]
    },
    {
      "cell_type": "code",
      "source": [
        "def check(p):\n",
        "    if len(p) < 8:\n",
        "        return \"Weak (Too short)\"\n",
        "\n",
        "    a = any(c.isupper() for c in p)\n",
        "    b = any(c.islower() for c in p)\n",
        "    d = any(c.isdigit() for c in p)\n",
        "    s = any(not c.isalnum() for c in p)\n",
        "\n",
        "    if a and b and d and s:\n",
        "        return \"Strong Password\"\n",
        "    else:\n",
        "        return \"Weak Password\"\n",
        "\n",
        "# Input and output\n",
        "p = input(\"Enter password: \")\n",
        "print(check(p))"
      ],
      "metadata": {
        "colab": {
          "base_uri": "https://localhost:8080/"
        },
        "id": "PXpl5BTMicWe",
        "outputId": "79083feb-14ff-494f-8c40-0b29f517906c"
      },
      "execution_count": null,
      "outputs": [
        {
          "output_type": "stream",
          "name": "stdout",
          "text": [
            "Enter password: Adgfdhjkkh\n",
            "Weak Password\n"
          ]
        }
      ]
    },
    {
      "cell_type": "code",
      "source": [
        "a=int(input())\n",
        "for i in range(1,a+1):\n",
        "    print(' ' * (a - i), end=\"\")\n",
        "    for j in range(1,i+1):\n",
        "        print(j,end=\"\")\n",
        "    print()"
      ],
      "metadata": {
        "colab": {
          "base_uri": "https://localhost:8080/"
        },
        "id": "obUywM3noWQ9",
        "outputId": "72a47665-fe01-4eba-dd5f-22d5841fc320"
      },
      "execution_count": null,
      "outputs": [
        {
          "output_type": "stream",
          "name": "stdout",
          "text": [
            "4\n",
            "   1\n",
            "  12\n",
            " 123\n",
            "1234\n"
          ]
        }
      ]
    },
    {
      "cell_type": "code",
      "source": [
        "s = input().strip()\n",
        "\n",
        "groups = []\n",
        "current = s[0]\n",
        "\n",
        "for i in range(1, len(s)):\n",
        "    if s[i] == s[i - 1]:\n",
        "        current += s[i]\n",
        "    else:\n",
        "        groups.append(current)\n",
        "        current = s[i]\n",
        "\n",
        "groups.append(current)\n",
        "print(len(groups), *groups)"
      ],
      "metadata": {
        "colab": {
          "base_uri": "https://localhost:8080/"
        },
        "id": "Z_aoT24WtBR2",
        "outputId": "84b638b3-c1a3-4a81-a065-a9401c08fa1b"
      },
      "execution_count": null,
      "outputs": [
        {
          "output_type": "stream",
          "name": "stdout",
          "text": [
            "ssssssfffffddff\n",
            "4 ssssss fffff dd ff\n"
          ]
        }
      ]
    },
    {
      "cell_type": "code",
      "source": [
        "a=list(map(int, input (). split()))\n",
        "\n",
        "t=[]\n",
        "u=[]\n",
        "for i in a:\n",
        "    if i%2==0:\n",
        "        t.append(i)\n",
        "\n",
        "    else:\n",
        "        u.append(i)\n",
        "print(\"even digits\",t,\"sum\",sum(t))\n",
        "print(\"odd digits\",u,\"sum\",sum(u))"
      ],
      "metadata": {
        "id": "hXLUShDaVp3u",
        "colab": {
          "base_uri": "https://localhost:8080/"
        },
        "outputId": "9fe99ad8-d8c2-4a3c-c149-b8dcaaf0704c"
      },
      "execution_count": null,
      "outputs": [
        {
          "output_type": "stream",
          "name": "stdout",
          "text": [
            "1 2 3 4 5 6\n",
            "even digits [2, 4, 6] sum 12\n",
            "odd digits [1, 3, 5] sum 9\n"
          ]
        }
      ]
    },
    {
      "cell_type": "code",
      "source": [
        "nums = list(map(int, input(\" \").split()))\n",
        "\n",
        "even = []\n",
        "odd = []\n",
        "\n",
        "for n in nums:\n",
        "    if n % 2 == 0:\n",
        "        even.append(n)\n",
        "    else:\n",
        "        odd.append(n)\n",
        "\n",
        "print(\"Even digits:\", even, \"Sum =\", sum(even))\n",
        "print(\"Odd digits:\", odd, \"Sum =\", sum(odd))"
      ],
      "metadata": {
        "colab": {
          "base_uri": "https://localhost:8080/"
        },
        "id": "HhxI0zuia9GM",
        "outputId": "223199ab-dccc-486c-e707-ccbe0ca8bb4a"
      },
      "execution_count": null,
      "outputs": [
        {
          "output_type": "stream",
          "name": "stdout",
          "text": [
            "Enter numbers: 1 2 3 4 5 6\n",
            "Even digits: [2, 4, 6] Sum = 12\n",
            "Odd digits: [1, 3, 5] Sum = 9\n"
          ]
        }
      ]
    },
    {
      "cell_type": "code",
      "source": [
        "N=int(input())\n",
        "Sum=0\n",
        "while N!=0:\n",
        "    digit=int(N%10)\n",
        "    Sum+=digit\n",
        "    N=N/10\n",
        "print(Sum)"
      ],
      "metadata": {
        "colab": {
          "base_uri": "https://localhost:8080/"
        },
        "id": "CTueNK5sra9O",
        "outputId": "303ee2b2-380f-4ac5-a4a2-c587ed9c7260"
      },
      "execution_count": null,
      "outputs": [
        {
          "output_type": "stream",
          "name": "stdout",
          "text": [
            "1234\n",
            "10\n"
          ]
        }
      ]
    },
    {
      "cell_type": "code",
      "source": [
        "n=int(input())\n",
        "a=1\n",
        "if n<0:\n",
        "    print(\"factorial doesn't exist\")\n",
        "else:\n",
        "    for i in range(1,n+1):\n",
        "        a*=i\n",
        "    print(a)"
      ],
      "metadata": {
        "colab": {
          "base_uri": "https://localhost:8080/"
        },
        "id": "dTMI1OTltXm2",
        "outputId": "e9d289a1-0ce4-48d2-f9d2-aab5b009e184"
      },
      "execution_count": null,
      "outputs": [
        {
          "output_type": "stream",
          "name": "stdout",
          "text": [
            "5\n",
            "120\n"
          ]
        }
      ]
    },
    {
      "cell_type": "code",
      "source": [
        "n = int(input())\n",
        "\n",
        "a, b = 0, 1\n",
        "\n",
        "for _ in range(n):\n",
        "    a, b = b, a + b\n",
        "print(a)"
      ],
      "metadata": {
        "colab": {
          "base_uri": "https://localhost:8080/"
        },
        "id": "gSQWCC8kubtU",
        "outputId": "2f920884-c1c8-491c-8bbb-0c7c8906d597"
      },
      "execution_count": null,
      "outputs": [
        {
          "output_type": "stream",
          "name": "stdout",
          "text": [
            "10\n",
            "55\n"
          ]
        }
      ]
    },
    {
      "cell_type": "code",
      "source": [
        "A=input()\n",
        "if A==A[::-1]:\n",
        "    print(A,\"is palindrome\")\n",
        "else:\n",
        "    print(A,\"is not palindrome\")"
      ],
      "metadata": {
        "colab": {
          "base_uri": "https://localhost:8080/"
        },
        "id": "8w129mxuzd9G",
        "outputId": "1d870c8b-4f79-4461-ae0f-f21f83e936b4"
      },
      "execution_count": 21,
      "outputs": [
        {
          "output_type": "stream",
          "name": "stdout",
          "text": [
            "AMMA\n",
            "AMMA is palindrome\n"
          ]
        }
      ]
    }
  ]
}