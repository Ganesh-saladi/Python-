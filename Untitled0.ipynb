{
  "nbformat": 4,
  "nbformat_minor": 0,
  "metadata": {
    "colab": {
      "provenance": [],
      "authorship_tag": "ABX9TyPOKNlRpTJu99oOZVjS+hls",
      "include_colab_link": true
    },
    "kernelspec": {
      "name": "python3",
      "display_name": "Python 3"
    },
    "language_info": {
      "name": "python"
    }
  },
  "cells": [
    {
      "cell_type": "markdown",
      "metadata": {
        "id": "view-in-github",
        "colab_type": "text"
      },
      "source": [
        "<a href=\"https://colab.research.google.com/github/Ganesh-saladi/Python-/blob/main/Untitled0.ipynb\" target=\"_parent\"><img src=\"https://colab.research.google.com/assets/colab-badge.svg\" alt=\"Open In Colab\"/></a>"
      ]
    },
    {
      "cell_type": "code",
      "execution_count": null,
      "metadata": {
        "colab": {
          "base_uri": "https://localhost:8080/"
        },
        "id": "C7Dtb0rbaHJ_",
        "outputId": "a43439de-9c09-4039-9f8b-b24b792a6853"
      },
      "outputs": [
        {
          "output_type": "stream",
          "name": "stdout",
          "text": [
            "4\n",
            "1  \n",
            "1 2  \n",
            "1 2 3  \n",
            "1 2 3 4  \n"
          ]
        }
      ],
      "source": [
        "N=int(input())\n",
        "for i in range(1,N+1):\n",
        "    for j in range(1,i+1):\n",
        "        print(j,end =\" \")\n",
        "    print(\" \")"
      ]
    },
    {
      "cell_type": "code",
      "source": [
        "a=input()\n",
        "b=a[::-1]\n",
        "if(a==b):\n",
        "    print(a,\"is palindrome\")\n",
        "else:\n",
        "    print(a,\"is not palindrome\")"
      ],
      "metadata": {
        "colab": {
          "base_uri": "https://localhost:8080/"
        },
        "id": "ne8Kwc_Sdcgp",
        "outputId": "ad9c3698-061a-4322-b16f-e44ce5528127"
      },
      "execution_count": null,
      "outputs": [
        {
          "output_type": "stream",
          "name": "stdout",
          "text": [
            "ravi\n",
            "ravi is not palindrome\n"
          ]
        }
      ]
    },
    {
      "cell_type": "code",
      "source": [
        "a=input()\n",
        "b=input()\n",
        "if (sorted(a)==sorted(b) and len(a)==len(b)):\n",
        "    print(a,\",\",b,\"are anograms\")\n",
        "else:\n",
        "    print(a,\",\",b,\"are not anograms\")"
      ],
      "metadata": {
        "colab": {
          "base_uri": "https://localhost:8080/"
        },
        "id": "tQ9na__oeWxb",
        "outputId": "22dc512a-5f4a-4ddb-f4ab-c7f2985c8316"
      },
      "execution_count": null,
      "outputs": [
        {
          "output_type": "stream",
          "name": "stdout",
          "text": [
            "listen \n",
            "silent \n",
            "listen  , silent  are anograms\n"
          ]
        }
      ]
    },
    {
      "cell_type": "code",
      "source": [
        "\n",
        "n=int(input())\n",
        "a=0\n",
        "b=1\n",
        "print(a,b,end=\" \")\n",
        "for i in range(n):\n",
        "    c=a+b\n",
        "    print(c, end=\" \")\n",
        "    a=b\n",
        "    b=c"
      ],
      "metadata": {
        "colab": {
          "base_uri": "https://localhost:8080/"
        },
        "id": "hgfnjod_gzh5",
        "outputId": "c3a44667-35f5-4f21-edc2-2c8e6c3d5e88"
      },
      "execution_count": null,
      "outputs": [
        {
          "output_type": "stream",
          "name": "stdout",
          "text": [
            "10\n",
            "0 1 1 2 3 5 8 13 21 34 55 89 "
          ]
        }
      ]
    },
    {
      "cell_type": "code",
      "source": [
        "n=int(input())\n",
        "n=abs(n)\n",
        "sum=0\n",
        "while(n>0):\n",
        "    a=n%10\n",
        "    if a%2==0:\n",
        "        sum+=a\n",
        "    n=n//10\n",
        "print(sum)"
      ],
      "metadata": {
        "colab": {
          "base_uri": "https://localhost:8080/"
        },
        "id": "Q5mX-bqtbPZ_",
        "outputId": "d23cdecb-0abc-43ab-ea25-6f1afeed2145"
      },
      "execution_count": 22,
      "outputs": [
        {
          "output_type": "stream",
          "name": "stdout",
          "text": [
            "10\n",
            "0\n"
          ]
        }
      ]
    },
    {
      "cell_type": "code",
      "source": [
        "start = int(input(\"Enter start of range: \"))\n",
        "end = int(input(\"Enter end of range: \"))\n",
        "\n",
        "total_sum = 0\n",
        "\n",
        "for number in range(start, end + 1):\n",
        "    n = abs(number)  # Handle negative numbers\n",
        "    while n > 0:\n",
        "        digit=n%10\n",
        "        if digit % 2 == 0:\n",
        "            total_sum += digit\n",
        "        n = n // 10\n",
        "\n",
        "print(\"Total sum of even digits in range:\", total_sum)"
      ],
      "metadata": {
        "colab": {
          "base_uri": "https://localhost:8080/"
        },
        "id": "VN6zmJdkjk2B",
        "outputId": "f94d8734-f054-4ca6-ee03-e96eb115fb7a"
      },
      "execution_count": 39,
      "outputs": [
        {
          "output_type": "stream",
          "name": "stdout",
          "text": [
            "Enter start of range: 0\n",
            "Enter end of range: 10\n",
            "Total sum of even digits in range: 0\n"
          ]
        }
      ]
    },
    {
      "cell_type": "code",
      "source": [
        "n = int(input())\n",
        "a = 1\n",
        "if n<0:\n",
        "    print(\"Factorial is not defined\")\n",
        "else:\n",
        "    for i in range(1, n + 1):\n",
        "        a *= i\n",
        "    print(factorial)"
      ],
      "metadata": {
        "colab": {
          "base_uri": "https://localhost:8080/"
        },
        "id": "ZPs6dcC6lls8",
        "outputId": "4d6764a1-8794-4575-e98d-1921802d9202"
      },
      "execution_count": 43,
      "outputs": [
        {
          "output_type": "stream",
          "name": "stdout",
          "text": [
            "5\n",
            "120\n"
          ]
        }
      ]
    },
    {
      "cell_type": "code",
      "source": [
        "def fun(n):\n",
        "    if n==0:\n",
        "        return 1\n",
        "    return n*fun(n-1)\n",
        "n=int(input())\n",
        "print(fun(n))"
      ],
      "metadata": {
        "colab": {
          "base_uri": "https://localhost:8080/"
        },
        "id": "CNqSum_Mplod",
        "outputId": "c79ade00-5980-46d7-a10f-d56ea75f8653"
      },
      "execution_count": 49,
      "outputs": [
        {
          "output_type": "stream",
          "name": "stdout",
          "text": [
            "5\n",
            "120\n"
          ]
        }
      ]
    }
  ]
}