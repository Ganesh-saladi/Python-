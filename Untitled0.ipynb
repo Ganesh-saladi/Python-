{
  "nbformat": 4,
  "nbformat_minor": 0,
  "metadata": {
    "colab": {
      "provenance": [],
      "authorship_tag": "ABX9TyPMuEtoaX8MPHc9qKerudKn",
      "include_colab_link": true
    },
    "kernelspec": {
      "name": "python3",
      "display_name": "Python 3"
    },
    "language_info": {
      "name": "python"
    }
  },
  "cells": [
    {
      "cell_type": "markdown",
      "metadata": {
        "id": "view-in-github",
        "colab_type": "text"
      },
      "source": [
        "<a href=\"https://colab.research.google.com/github/Ganesh-saladi/Python-/blob/main/Untitled0.ipynb\" target=\"_parent\"><img src=\"https://colab.research.google.com/assets/colab-badge.svg\" alt=\"Open In Colab\"/></a>"
      ]
    },
    {
      "cell_type": "code",
      "execution_count": null,
      "metadata": {
        "colab": {
          "base_uri": "https://localhost:8080/"
        },
        "id": "C7Dtb0rbaHJ_",
        "outputId": "a43439de-9c09-4039-9f8b-b24b792a6853"
      },
      "outputs": [
        {
          "output_type": "stream",
          "name": "stdout",
          "text": [
            "4\n",
            "1  \n",
            "1 2  \n",
            "1 2 3  \n",
            "1 2 3 4  \n"
          ]
        }
      ],
      "source": [
        "N=int(input())\n",
        "for i in range(1,N+1):\n",
        "    for j in range(1,i+1):\n",
        "        print(j,end =\" \")\n",
        "    print(\" \")"
      ]
    },
    {
      "cell_type": "code",
      "source": [
        "a=input()\n",
        "b=a[::-1]\n",
        "if(a==b):\n",
        "    print(a,\"is palindrome\")\n",
        "else:\n",
        "    print(a,\"is not palindrome\")"
      ],
      "metadata": {
        "colab": {
          "base_uri": "https://localhost:8080/"
        },
        "id": "ne8Kwc_Sdcgp",
        "outputId": "ad9c3698-061a-4322-b16f-e44ce5528127"
      },
      "execution_count": null,
      "outputs": [
        {
          "output_type": "stream",
          "name": "stdout",
          "text": [
            "ravi\n",
            "ravi is not palindrome\n"
          ]
        }
      ]
    },
    {
      "cell_type": "code",
      "source": [
        "a=input()\n",
        "b=input()\n",
        "if (sorted(a)==sorted(b) and len(a)==len(b)):\n",
        "    print(a,\",\",b,\"are anograms\")\n",
        "else:\n",
        "    print(a,\",\",b,\"are not anograms\")"
      ],
      "metadata": {
        "colab": {
          "base_uri": "https://localhost:8080/"
        },
        "id": "tQ9na__oeWxb",
        "outputId": "22dc512a-5f4a-4ddb-f4ab-c7f2985c8316"
      },
      "execution_count": null,
      "outputs": [
        {
          "output_type": "stream",
          "name": "stdout",
          "text": [
            "listen \n",
            "silent \n",
            "listen  , silent  are anograms\n"
          ]
        }
      ]
    },
    {
      "cell_type": "code",
      "source": [
        "\n",
        "n=int(input())\n",
        "a=0\n",
        "b=1\n",
        "print(a,b,end=\" \")\n",
        "for i in range(n):\n",
        "    c=a+b\n",
        "    print(c, end=\" \")\n",
        "    a=b\n",
        "    b=c"
      ],
      "metadata": {
        "colab": {
          "base_uri": "https://localhost:8080/"
        },
        "id": "hgfnjod_gzh5",
        "outputId": "c3a44667-35f5-4f21-edc2-2c8e6c3d5e88"
      },
      "execution_count": null,
      "outputs": [
        {
          "output_type": "stream",
          "name": "stdout",
          "text": [
            "10\n",
            "0 1 1 2 3 5 8 13 21 34 55 89 "
          ]
        }
      ]
    },
    {
      "cell_type": "code",
      "source": [
        "n=int(input())\n",
        "n=abs(n)\n",
        "sum=0\n",
        "while(n>0):\n",
        "    a=n%10\n",
        "    if a%2==0:\n",
        "        sum+=a\n",
        "    n=n//10\n",
        "print(sum)"
      ],
      "metadata": {
        "colab": {
          "base_uri": "https://localhost:8080/"
        },
        "id": "Q5mX-bqtbPZ_",
        "outputId": "d23cdecb-0abc-43ab-ea25-6f1afeed2145"
      },
      "execution_count": null,
      "outputs": [
        {
          "output_type": "stream",
          "name": "stdout",
          "text": [
            "10\n",
            "0\n"
          ]
        }
      ]
    },
    {
      "cell_type": "code",
      "source": [
        "start = int(input(\"Enter start of range: \"))\n",
        "end = int(input(\"Enter end of range: \"))\n",
        "\n",
        "total_sum = 0\n",
        "\n",
        "for number in range(start, end + 1):\n",
        "    n = abs(number)  # Handle negative numbers\n",
        "    while n > 0:\n",
        "        digit=n%10\n",
        "        if digit % 2 == 0:\n",
        "            total_sum += digit\n",
        "        n = n // 10\n",
        "\n",
        "print(\"Total sum of even digits in range:\", total_sum)"
      ],
      "metadata": {
        "colab": {
          "base_uri": "https://localhost:8080/"
        },
        "id": "VN6zmJdkjk2B",
        "outputId": "b061c8d2-a725-4d93-9f9e-6b586f7f9d7a"
      },
      "execution_count": null,
      "outputs": [
        {
          "output_type": "stream",
          "name": "stdout",
          "text": [
            "Enter start of range: 0\n",
            "Enter end of range: 6\n",
            "Total sum of even digits in range: 12\n"
          ]
        }
      ]
    },
    {
      "cell_type": "code",
      "source": [
        "n = int(input())\n",
        "a = 1\n",
        "if n<0:\n",
        "    print(\"Factorial is not defined\")\n",
        "else:\n",
        "    for i in range(1, n + 1):\n",
        "        a *= i\n",
        "    print(factorial)"
      ],
      "metadata": {
        "colab": {
          "base_uri": "https://localhost:8080/"
        },
        "id": "ZPs6dcC6lls8",
        "outputId": "4d6764a1-8794-4575-e98d-1921802d9202"
      },
      "execution_count": null,
      "outputs": [
        {
          "output_type": "stream",
          "name": "stdout",
          "text": [
            "5\n",
            "120\n"
          ]
        }
      ]
    },
    {
      "cell_type": "code",
      "source": [
        "import math\n",
        "\n",
        "n = int(input(\"Enter a number: \"))\n",
        "is_prime = True\n",
        "\n",
        "if n <= 1:\n",
        "    is_prime = False\n",
        "elif n <= 3:\n",
        "    is_prime = True\n",
        "elif n % 2 == 0 or n % 3 == 0:\n",
        "    is_prime = False\n",
        "else:\n",
        "    for i in range(5, int(math.sqrt(n)) + 1, 2):\n",
        "        if n % i == 0:\n",
        "            is_prime = False\n",
        "            break\n",
        "\n",
        "if is_prime:\n",
        "    print(n, \"is a prime number.\")\n",
        "else:\n",
        "    print(n, \"is not a prime number.\")"
      ],
      "metadata": {
        "id": "sJZlMxbsxHmm",
        "outputId": "0a43f041-eda8-45c3-bb40-a249a2cbf502",
        "colab": {
          "base_uri": "https://localhost:8080/"
        }
      },
      "execution_count": null,
      "outputs": [
        {
          "output_type": "stream",
          "name": "stdout",
          "text": [
            "Enter a number: 35\n",
            "35 is not a prime number.\n"
          ]
        }
      ]
    },
    {
      "cell_type": "code",
      "source": [
        "def fun(n):\n",
        "    if n==0:\n",
        "        return 1\n",
        "    return n*fun(n-1)\n",
        "n=int(input())\n",
        "print(fun(n))"
      ],
      "metadata": {
        "colab": {
          "base_uri": "https://localhost:8080/"
        },
        "id": "CNqSum_Mplod",
        "outputId": "c79ade00-5980-46d7-a10f-d56ea75f8653"
      },
      "execution_count": null,
      "outputs": [
        {
          "output_type": "stream",
          "name": "stdout",
          "text": [
            "5\n",
            "120\n"
          ]
        }
      ]
    },
    {
      "cell_type": "code",
      "source": [
        "T=int(input())\n",
        "for i in range(T):\n",
        "    A, B=map(int,input().split())\n",
        "    if B*2>=A:\n",
        "        print(\"yes\")\n",
        "    else:\n",
        "        print(\"No\")"
      ],
      "metadata": {
        "id": "KMqIZszT58Ek",
        "colab": {
          "base_uri": "https://localhost:8080/"
        },
        "outputId": "687eee33-f510-4ad9-b38c-3d9267d2ef17"
      },
      "execution_count": null,
      "outputs": [
        {
          "output_type": "stream",
          "name": "stdout",
          "text": [
            "1\n",
            "3 2\n",
            "yes\n"
          ]
        }
      ]
    },
    {
      "cell_type": "code",
      "source": [
        "T=int(input())\n",
        "for i in range(T):\n",
        "    N=int(input())\n",
        "    print(N*15)"
      ],
      "metadata": {
        "colab": {
          "base_uri": "https://localhost:8080/"
        },
        "id": "27E0jr7OFAed",
        "outputId": "42754903-83e8-46ba-9aa0-433903c6df1c"
      },
      "execution_count": null,
      "outputs": [
        {
          "output_type": "stream",
          "name": "stdout",
          "text": [
            "2\n",
            "4\n",
            "60\n",
            "2\n",
            "30\n"
          ]
        }
      ]
    },
    {
      "cell_type": "code",
      "source": [
        "5\n",
        "T=int(input())\n",
        "for i in range(T):\n",
        "    X=int(input())\n",
        "    print(X*10)"
      ],
      "metadata": {
        "colab": {
          "base_uri": "https://localhost:8080/"
        },
        "id": "02qWl4wpBk_6",
        "outputId": "fdd65b5b-fcc6-4522-ca6c-b2eaedcdcc68"
      },
      "execution_count": 2,
      "outputs": [
        {
          "output_type": "stream",
          "name": "stdout",
          "text": [
            "2\n",
            "4\n",
            "40\n",
            "1\n",
            "10\n"
          ]
        }
      ]
    },
    {
      "cell_type": "code",
      "source": [
        "T = int(input())\n",
        "\n",
        "for _ in range(T):\n",
        "    N, X = map(int, input().split())\n",
        "\n",
        "    if X >= N:\n",
        "        print(0)\n",
        "    else:\n",
        "        remaining = N - X\n",
        "        packets = (remaining ) // 4  # same as math.ceil(remaining / 4)\n",
        "        print(packets)"
      ],
      "metadata": {
        "colab": {
          "base_uri": "https://localhost:8080/"
        },
        "id": "k3C7T0B4C6mF",
        "outputId": "bbc9e60e-49f2-4ef1-da9e-e3067a0ecab7"
      },
      "execution_count": 13,
      "outputs": [
        {
          "output_type": "stream",
          "name": "stdout",
          "text": [
            "2\n",
            "20 12\n",
            "2\n",
            "10 100\n",
            "0\n"
          ]
        }
      ]
    }
  ]
}