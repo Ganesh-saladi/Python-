{
  "nbformat": 4,
  "nbformat_minor": 0,
  "metadata": {
    "colab": {
      "provenance": [],
      "authorship_tag": "ABX9TyNBZKwq1SU84vlf+QsbME4H",
      "include_colab_link": true
    },
    "kernelspec": {
      "name": "python3",
      "display_name": "Python 3"
    },
    "language_info": {
      "name": "python"
    }
  },
  "cells": [
    {
      "cell_type": "markdown",
      "metadata": {
        "id": "view-in-github",
        "colab_type": "text"
      },
      "source": [
        "<a href=\"https://colab.research.google.com/github/Ganesh-saladi/Python-/blob/main/Untitled40.ipynb\" target=\"_parent\"><img src=\"https://colab.research.google.com/assets/colab-badge.svg\" alt=\"Open In Colab\"/></a>"
      ]
    },
    {
      "cell_type": "code",
      "execution_count": null,
      "metadata": {
        "colab": {
          "base_uri": "https://localhost:8080/"
        },
        "id": "4jrTD_P4xyxK",
        "outputId": "2efc933c-8732-437c-ec36-635b0fd8925b"
      },
      "outputs": [
        {
          "output_type": "stream",
          "name": "stdout",
          "text": [
            "10\n",
            "1 2 3 5 8 13 21 34 55 "
          ]
        }
      ],
      "source": [
        "n=int(input())\n",
        "a,b=0,1\n",
        "if n<0:\n",
        "    print (\"in correct\")\n",
        "elif n==0:\n",
        "    print(a)\n",
        "elif n==1:\n",
        "    print(b)\n",
        "else:\n",
        "    for I in range (2,n+1):\n",
        "        c=a+b\n",
        "        a=b\n",
        "        b=c\n",
        "        print(c,end=\" \")"
      ]
    },
    {
      "cell_type": "code",
      "source": [
        "n = 128\n",
        "i = 2\n",
        "\n",
        "while i<n+1:\n",
        "    print(i,end=\" \")\n",
        "    i*=2"
      ],
      "metadata": {
        "id": "qi4fGiQZjRU7",
        "outputId": "35970ccd-8075-4352-ea91-3ce7a40a520b",
        "colab": {
          "base_uri": "https://localhost:8080/"
        }
      },
      "execution_count": null,
      "outputs": [
        {
          "output_type": "stream",
          "name": "stdout",
          "text": [
            "2 4 8 16 32 64 128 "
          ]
        }
      ]
    },
    {
      "cell_type": "code",
      "source": [
        "t = 2\n",
        "h = 3\n",
        "f = 4\n",
        "print(t**2)\n",
        "print(t**3)\n",
        "print(h**2)\n",
        "print(h**3)\n",
        "print(f**2)\n",
        "print(f**3)"
      ],
      "metadata": {
        "colab": {
          "base_uri": "https://localhost:8080/"
        },
        "id": "yxVhoT_TMEUb",
        "outputId": "c73c991f-d600-461e-d96a-6569505fc3cf"
      },
      "execution_count": 1,
      "outputs": [
        {
          "output_type": "stream",
          "name": "stdout",
          "text": [
            "4\n",
            "8\n",
            "9\n",
            "27\n",
            "16\n",
            "64\n"
          ]
        }
      ]
    },
    {
      "cell_type": "code",
      "source": [
        "def calculate_square_and_cube(number):\n",
        "    square = number ** 2\n",
        "    cube = number ** 3\n",
        "    print(square)\n",
        "    print(cube)\n",
        "# Using the function for numbers 2, 3, and 4\n",
        "calculate_square_and_cube(2)\n",
        "calculate_square_and_cube(3)\n",
        "calculate_square_and_cube(4)"
      ],
      "metadata": {
        "colab": {
          "base_uri": "https://localhost:8080/"
        },
        "id": "pL8tgx0AMLdy",
        "outputId": "e50c6135-86bf-4fbc-d274-b119b2662960"
      },
      "execution_count": 2,
      "outputs": [
        {
          "output_type": "stream",
          "name": "stdout",
          "text": [
            "4\n",
            "8\n",
            "9\n",
            "27\n",
            "16\n",
            "64\n"
          ]
        }
      ]
    }
  ]
}