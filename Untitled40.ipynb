{
  "nbformat": 4,
  "nbformat_minor": 0,
  "metadata": {
    "colab": {
      "provenance": [],
      "authorship_tag": "ABX9TyNsrgwlE89IDjCAh447iokr",
      "include_colab_link": true
    },
    "kernelspec": {
      "name": "python3",
      "display_name": "Python 3"
    },
    "language_info": {
      "name": "python"
    }
  },
  "cells": [
    {
      "cell_type": "markdown",
      "metadata": {
        "id": "view-in-github",
        "colab_type": "text"
      },
      "source": [
        "<a href=\"https://colab.research.google.com/github/Ganesh-saladi/Python-/blob/main/Untitled40.ipynb\" target=\"_parent\"><img src=\"https://colab.research.google.com/assets/colab-badge.svg\" alt=\"Open In Colab\"/></a>"
      ]
    },
    {
      "cell_type": "code",
      "execution_count": 1,
      "metadata": {
        "colab": {
          "base_uri": "https://localhost:8080/"
        },
        "id": "4jrTD_P4xyxK",
        "outputId": "2efc933c-8732-437c-ec36-635b0fd8925b"
      },
      "outputs": [
        {
          "output_type": "stream",
          "name": "stdout",
          "text": [
            "10\n",
            "1 2 3 5 8 13 21 34 55 "
          ]
        }
      ],
      "source": [
        "n=int(input())\n",
        "a,b=0,1\n",
        "if n<0:\n",
        "    print (\"in correct\")\n",
        "elif n==0:\n",
        "    print(a)\n",
        "elif n==1:\n",
        "    print(b)\n",
        "else:\n",
        "    for I in range (2,n+1):\n",
        "        c=a+b\n",
        "        a=b\n",
        "        b=c\n",
        "        print(c,end=\" \")"
      ]
    }
  ]
}